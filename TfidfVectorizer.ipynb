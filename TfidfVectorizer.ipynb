{
 "cells": [
  {
   "cell_type": "code",
   "execution_count": 1,
   "metadata": {},
   "outputs": [],
   "source": [
    "text = [\"Chinese Beijing Chinese\",\n",
    "        \"Chinese Chinese Shanghai\",\n",
    "        \"Chinese Macao\",\n",
    "        \"Tokyo Japan Chinese\"]"
   ]
  },
  {
   "cell_type": "code",
   "execution_count": 2,
   "metadata": {},
   "outputs": [],
   "source": [
    "from sklearn.feature_extraction.text import TfidfVectorizer"
   ]
  },
  {
   "cell_type": "markdown",
   "metadata": {},
   "source": [
    "## 查看训练向量"
   ],
   "execution_count": null,
   "outputs": []
  },
  {
   "cell_type": "code",
   "execution_count": 3,
   "metadata": {},
   "outputs": [],
   "source": [
    "tv = TfidfVectorizer(use_idf=True, smooth_idf=True, norm=None)"
   ]
  },
  {
   "cell_type": "code",
   "execution_count": 4,
   "metadata": {},
   "outputs": [],
   "source": [
    "tv_fit = tv.fit_transform(text)"
   ]
  },
  {
   "cell_type": "code",
   "execution_count": 5,
   "metadata": {},
   "outputs": [
    {
     "output_type": "execute_result",
     "data": {
      "text/plain": "['beijing', 'chinese', 'japan', 'macao', 'shanghai', 'tokyo']"
     },
     "metadata": {},
     "execution_count": 5
    }
   ],
   "source": [
    "tv.get_feature_names()"
   ]
  },
  {
   "cell_type": "code",
   "execution_count": 6,
   "metadata": {},
   "outputs": [
    {
     "output_type": "execute_result",
     "data": {
      "text/plain": "array([[1.91629073, 2.        , 0.        , 0.        , 0.        ,\n        0.        ],\n       [0.        , 2.        , 0.        , 0.        , 1.91629073,\n        0.        ],\n       [0.        , 1.        , 0.        , 1.91629073, 0.        ,\n        0.        ],\n       [0.        , 1.        , 1.91629073, 0.        , 0.        ,\n        1.91629073]])"
     },
     "metadata": {},
     "execution_count": 6
    }
   ],
   "source": [
    "tv_fit.toarray()"
   ]
  },
  {
   "cell_type": "markdown",
   "metadata": {},
   "source": [
    "## 加入正则化"
   ],
   "execution_count": null,
   "outputs": []
  },
  {
   "cell_type": "code",
   "execution_count": 7,
   "metadata": {},
   "outputs": [],
   "source": [
    "tv1 = TfidfVectorizer(use_idf=True, smooth_idf=True)"
   ]
  },
  {
   "cell_type": "code",
   "execution_count": 8,
   "metadata": {},
   "outputs": [],
   "source": [
    "tv1_fit = tv1.fit_transform(text)"
   ]
  },
  {
   "cell_type": "code",
   "execution_count": 9,
   "metadata": {},
   "outputs": [
    {
     "output_type": "execute_result",
     "data": {
      "text/plain": "['beijing', 'chinese', 'japan', 'macao', 'shanghai', 'tokyo']"
     },
     "metadata": {},
     "execution_count": 9
    }
   ],
   "source": [
    "tv1.get_feature_names()"
   ]
  },
  {
   "cell_type": "code",
   "execution_count": 10,
   "metadata": {},
   "outputs": [
    {
     "output_type": "execute_result",
     "data": {
      "text/plain": "array([[0.69183461, 0.722056  , 0.        , 0.        , 0.        ,\n        0.        ],\n       [0.        , 0.722056  , 0.        , 0.        , 0.69183461,\n        0.        ],\n       [0.        , 0.46263733, 0.        , 0.88654763, 0.        ,\n        0.        ],\n       [0.        , 0.34618161, 0.66338461, 0.        , 0.        ,\n        0.66338461]])"
     },
     "metadata": {},
     "execution_count": 10
    }
   ],
   "source": [
    "tv1_fit.toarray()"
   ]
  },
  {
   "cell_type": "markdown",
   "metadata": {},
   "source": [
    "## 调整 ngram_range"
   ],
   "execution_count": null,
   "outputs": []
  },
  {
   "cell_type": "code",
   "execution_count": 11,
   "metadata": {},
   "outputs": [],
   "source": [
    "tv = TfidfVectorizer(ngram_range=(1, 2), use_idf=True, smooth_idf=True, norm=None)\n",
    "tv_fit = tv.fit_transform(text)"
   ]
  },
  {
   "cell_type": "code",
   "execution_count": 12,
   "metadata": {},
   "outputs": [
    {
     "output_type": "execute_result",
     "data": {
      "text/plain": "['beijing',\n 'beijing chinese',\n 'chinese',\n 'chinese beijing',\n 'chinese chinese',\n 'chinese macao',\n 'chinese shanghai',\n 'japan',\n 'japan chinese',\n 'macao',\n 'shanghai',\n 'tokyo',\n 'tokyo japan']"
     },
     "metadata": {},
     "execution_count": 12
    }
   ],
   "source": [
    "tv.get_feature_names()"
   ]
  },
  {
   "cell_type": "code",
   "execution_count": 13,
   "metadata": {},
   "outputs": [
    {
     "output_type": "execute_result",
     "data": {
      "text/plain": "array([[1.91629073, 1.91629073, 2.        , 1.91629073, 0.        ,\n        0.        , 0.        , 0.        , 0.        , 0.        ,\n        0.        , 0.        , 0.        ],\n       [0.        , 0.        , 2.        , 0.        , 1.91629073,\n        0.        , 1.91629073, 0.        , 0.        , 0.        ,\n        1.91629073, 0.        , 0.        ],\n       [0.        , 0.        , 1.        , 0.        , 0.        ,\n        1.91629073, 0.        , 0.        , 0.        , 1.91629073,\n        0.        , 0.        , 0.        ],\n       [0.        , 0.        , 1.        , 0.        , 0.        ,\n        0.        , 0.        , 1.91629073, 1.91629073, 0.        ,\n        0.        , 1.91629073, 1.91629073]])"
     },
     "metadata": {},
     "execution_count": 13
    }
   ],
   "source": [
    "tv_fit.toarray()"
   ]
  },
  {
   "cell_type": "code",
   "execution_count": null,
   "metadata": {},
   "outputs": [],
   "source": []
  }
 ],
 "metadata": {
  "file_extension": ".py",
  "kernelspec": {
   "display_name": "Python 3.7.4 64-bit ('ml': conda)",
   "language": "python",
   "name": "python37464bitmlconda70f18b7bf539419e8e10efdc54874403"
  },
  "language_info": {
   "codemirror_mode": {
    "name": "ipython",
    "version": 3
   },
   "file_extension": ".py",
   "mimetype": "text/x-python",
   "name": "python",
   "nbconvert_exporter": "python",
   "pygments_lexer": "ipython3",
   "version": "3.7.4-final"
  },
  "mimetype": "text/x-python",
  "name": "python",
  "npconvert_exporter": "python",
  "pygments_lexer": "ipython3",
  "version": 3
 },
 "nbformat": 4,
 "nbformat_minor": 2
}